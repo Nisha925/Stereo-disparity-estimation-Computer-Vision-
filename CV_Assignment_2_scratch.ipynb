{
 "cells": [
  {
   "cell_type": "code",
   "execution_count": null,
   "metadata": {},
   "outputs": [],
   "source": [
    "'''Assignment 2: Stereo disparity estimation\n",
    "For the given two images, compute the disparity map. \n",
    "\n",
    "A disparity map is nothing but an output-image, which shows how much a pixel has moved from the one view to the other.\n",
    "For example, if a pixel at location (x,y) has translated by 10 pixels, then the disparity map value at (x,y) will be 10.\n",
    "\n",
    "Note that unlike in assignment 1, here the scene is not a 2D scene (i.e. the objects are at different depths. Thus, there will not be a global parametric motion between pixels)\n",
    "\n",
    "To compute the disparity of each pixel, choose a window of some size (e.g. 5 x 5 to 15 x 15), around a pixel in the reference image,\n",
    "Then  translate a window in the other (test) image and compute the translation value at which both the windows have the closest match.\n",
    "The 'closest' match is computed based on some distance metric between the pixel value in the reference image window and the test image windows.\n",
    "For some basic distance metric please see the document \"stereo disparity review.pdf\" uploaded above\n",
    "\n",
    "In this particular case, the camera is only translated horizontally. \n",
    "Hence you would only have to translate the test window in the horizontal direction.'''"
   ]
  },
  {
   "cell_type": "code",
   "execution_count": 19,
   "metadata": {},
   "outputs": [],
   "source": [
    "from PIL import Image\n",
    "im = Image.open(\"scene1.row3.col3.ppm\")\n",
    "im.show()"
   ]
  },
  {
   "cell_type": "code",
   "execution_count": 18,
   "metadata": {},
   "outputs": [],
   "source": [
    "from PIL import Image\n",
    "im = Image.open(\"scene1.row3.col2.ppm\")\n",
    "im.show()"
   ]
  },
  {
   "cell_type": "code",
   "execution_count": 5,
   "metadata": {},
   "outputs": [],
   "source": [
    "import cv2\n",
    "import numpy as np\n",
    "import matplotlib.pyplot as plt\n",
    "import os\n",
    "import scipy.ndimage.filters\n",
    "def plane_sweep_ncc(im_l,im_r,start,steps,wid):\n",
    "    \"\"\" Find disparity image using normalized cross-correlation. \"\"\"\n",
    "    m,n = im_l.shape\n",
    "    # arrays to hold the different sums\n",
    "    mean_l = np.zeros((m,n))\n",
    "    mean_r = np.zeros((m,n))\n",
    "    s = np.zeros((m,n))\n",
    "    s_l = np.zeros((m,n))\n",
    "    s_r = np.zeros((m,n))\n",
    "    # array to hold depth planes\n",
    "    dmaps = np.zeros((m,n,steps))\n",
    "    # compute mean of patch\n",
    "    scipy.ndimage.filters.uniform_filter(im_l,wid,mean_l)\n",
    "    scipy.ndimage.filters.uniform_filter(im_r,wid,mean_r)\n",
    "    # normalized images\n",
    "    norm_l = im_l - mean_l\n",
    "    norm_r = im_r - mean_r\n",
    "    # try different disparities\n",
    "    for displ in range(steps):\n",
    "        # move left image to the right, compute sums\n",
    "        scipy.ndimage.filters.uniform_filter(np.roll(norm_l,-displ-start)*norm_r,wid,s) # sum nominator\n",
    "        scipy.ndimage.filters.uniform_filter(np.roll(norm_l,-displ-start)*np.roll(norm_l,-displ-start),wid,s_l)\n",
    "        scipy.ndimage.filters.uniform_filter(norm_r*norm_r,wid,s_r) # sum denominator\n",
    "        # store ncc scores\n",
    "        dmaps[:,:,displ] = s/np.sqrt(s_l*s_r)\n",
    "        # pick best depth for each pixel\n",
    "    return np.argmax(dmaps,axis=2)\n"
   ]
  },
  {
   "cell_type": "code",
   "execution_count": 20,
   "metadata": {},
   "outputs": [
    {
     "name": "stderr",
     "output_type": "stream",
     "text": [
      "Lossy conversion from int64 to uint8. Range [0, 11]. Convert image to uint8 prior to saving to suppress this warning.\n"
     ]
    }
   ],
   "source": [
    "import stereo\n",
    "import scipy\n",
    "im_l = np.array(Image.open('scene1.row3.col2.ppm').convert('L'),'f')\n",
    "im_r = np.array(Image.open('scene1.row3.col3.ppm').convert('L'),'f')\n",
    "# starting displacement and steps\n",
    "steps = 12\n",
    "start = 4\n",
    "# width for ncc\n",
    "wid = 9\n",
    "res = plane_sweep_ncc(im_l,im_r,start,steps,wid)\n",
    "import scipy.misc\n",
    "# scipy.misc.imsave('depth.png',res)\n",
    "import imageio\n",
    "from skimage import img_as_ubyte\n",
    "imageio.imwrite('depth_ncc.png', res)\n",
    "im = Image.open(\"depth_ncc.png\")\n",
    "im.show()"
   ]
  },
  {
   "cell_type": "code",
   "execution_count": 7,
   "metadata": {},
   "outputs": [],
   "source": [
    "def plane_sweep_gauss(im_l,im_r,start,steps,wid):\n",
    "    \"\"\" Find disparity image using normalized cross-correlation\n",
    "    with Gaussian weighted neigborhoods. \"\"\"\n",
    "    m,n = im_l.shape\n",
    "    # arrays to hold the different sums\n",
    "    mean_l = np.zeros((m,n))\n",
    "    mean_r = np.zeros((m,n))\n",
    "    s = np.zeros((m,n))\n",
    "    s_l = np.zeros((m,n))\n",
    "    s_r = np.zeros((m,n))\n",
    "    # array to hold depth planes\n",
    "    dmaps = np.zeros((m,n,steps))\n",
    "    # compute mean\n",
    "    scipy.ndimage.filters.gaussian_filter(im_l,wid,0,mean_l)\n",
    "    scipy.ndimage.filters.gaussian_filter(im_r,wid,0,mean_r)\n",
    "    # normalized images\n",
    "    norm_l = im_l - mean_l\n",
    "    norm_r = im_r - mean_r\n",
    "    # try different disparities\n",
    "    for displ in range(steps):\n",
    "            # move left image to the right, compute sums\n",
    "            scipy.ndimage.filters.gaussian_filter(np.roll(norm_l,-displ-start)*norm_r,wid,0,s) # sum nominator\n",
    "            scipy.ndimage.filters.gaussian_filter(np.roll(norm_l,-displ-start)*np.roll(norm_l,-displ-start),wid,0,s_l)\n",
    "            scipy.ndimage.filters.gaussian_filter(norm_r*norm_r,wid,0,s_r) # sum denominator\n",
    "            # store ncc scores\n",
    "            dmaps[:,:,displ] = s/np.sqrt(s_l*s_r)\n",
    "            # pick best depth for each pixel\n",
    "    return np.argmax(dmaps,axis=2)"
   ]
  },
  {
   "cell_type": "code",
   "execution_count": 21,
   "metadata": {},
   "outputs": [
    {
     "name": "stderr",
     "output_type": "stream",
     "text": [
      "Lossy conversion from int64 to uint8. Range [0, 11]. Convert image to uint8 prior to saving to suppress this warning.\n"
     ]
    }
   ],
   "source": [
    "im_l = np.array(Image.open('scene1.row3.col2.ppm').convert('L'),'f')\n",
    "im_r = np.array(Image.open('scene1.row3.col3.ppm').convert('L'),'f')\n",
    "# starting displacement and steps\n",
    "steps = 12\n",
    "start = 4\n",
    "# width for ncc\n",
    "wid = 3\n",
    "res = plane_sweep_gauss(im_l,im_r,start,steps,wid)\n",
    "import scipy.misc\n",
    "# scipy.misc.imsave('depth.png',res)\n",
    "import imageio\n",
    "from skimage import img_as_ubyte\n",
    "imageio.imwrite('depth_gauss.png', res)\n",
    "im = Image.open(\"depth_gauss.png\")\n",
    "im.show()"
   ]
  },
  {
   "cell_type": "code",
   "execution_count": null,
   "metadata": {},
   "outputs": [],
   "source": []
  }
 ],
 "metadata": {
  "kernelspec": {
   "display_name": "Python 3",
   "language": "python",
   "name": "python3"
  },
  "language_info": {
   "codemirror_mode": {
    "name": "ipython",
    "version": 3
   },
   "file_extension": ".py",
   "mimetype": "text/x-python",
   "name": "python",
   "nbconvert_exporter": "python",
   "pygments_lexer": "ipython3",
   "version": "3.7.2"
  }
 },
 "nbformat": 4,
 "nbformat_minor": 2
}
